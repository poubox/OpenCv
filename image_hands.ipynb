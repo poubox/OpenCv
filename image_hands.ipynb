{
 "cells": [
  {
   "cell_type": "code",
   "execution_count": 40,
   "metadata": {},
   "outputs": [],
   "source": [
    "import cv2\n",
    "import numpy as np\n",
    "import matplotlib.pyplot as plt"
   ]
  },
  {
   "cell_type": "code",
   "execution_count": 41,
   "metadata": {},
   "outputs": [],
   "source": [
    "\n",
    "# 이미지 읽기 및 크기 조정\n",
    "img = cv2.imread(\"./photo/hand.jpg\", cv2.IMREAD_ANYCOLOR)\n",
    "img = cv2.resize(img, (800, 800))\n",
    "\n",
    "# BGR에서 HSV 색상 공간으로 변환\n",
    "img_hsv = cv2.cvtColor(img, cv2.COLOR_BGR2HSV)\n",
    "\n",
    "# 색상 범위 정의\n",
    "low = np.array([0, 30, 70], dtype=\"uint8\")\n",
    "high = np.array([20, 255, 255], dtype=\"uint8\")\n",
    "\n",
    "# 색상 범위 필터링\n",
    "img_hand = cv2.inRange(img_hsv, low, high)\n",
    "\n",
    "cv2.imshow(\"img\", img_hand)\n",
    "cv2.waitKey()\n",
    "cv2.destroyAllWindows()"
   ]
  },
  {
   "cell_type": "code",
   "execution_count": 42,
   "metadata": {},
   "outputs": [],
   "source": [
    "# 이미지 읽기 및 크기 조정\n",
    "img = cv2.imread(\"./photo/hand.jpg\", cv2.IMREAD_ANYCOLOR)\n",
    "img = cv2.resize(img, (800, 800))\n",
    "\n",
    "# BGR에서 HSV 색상 공간으로 변환\n",
    "img_hsv = cv2.cvtColor(img, cv2.COLOR_BGR2HSV)\n",
    "\n",
    "# 색상 범위 정의\n",
    "low = np.array([0, 30, 70], dtype=\"uint8\")\n",
    "high = np.array([102, 70, 240], dtype=\"uint8\")\n",
    "\n",
    "# 색상 범위 필터링\n",
    "img_hand = cv2.inRange(img_hsv, low, high)\n",
    "\n",
    "contours, hierarchy = cv2.findContours(img_hand, cv2.RETR_CCOMP, cv2.CHAIN_APPROX_NONE)\n",
    "\n",
    "area = []\n",
    "for i, contour in enumerate(contours):\n",
    "    cv2.drawContours(img, [contour], 0, (0, 255, 0), 3)\n",
    "    area.append(cv2.contourArea(contour))\n",
    "\n",
    "\n",
    "\n",
    "cv2.imshow(\"img\", img)\n",
    "cv2.waitKey()\n",
    "cv2.destroyAllWindows()"
   ]
  },
  {
   "cell_type": "code",
   "execution_count": 43,
   "metadata": {},
   "outputs": [
    {
     "name": "stdout",
     "output_type": "stream",
     "text": [
      "303\n"
     ]
    }
   ],
   "source": []
  },
  {
   "cell_type": "code",
   "execution_count": 57,
   "metadata": {},
   "outputs": [
    {
     "name": "stdout",
     "output_type": "stream",
     "text": [
      "36\n"
     ]
    }
   ],
   "source": [
    "# 손 윤곽선 탐색 프로그램\n",
    "\n",
    "# 이미지 읽기 및 크기 조정\n",
    "img = cv2.imread(\"./photo/hand.jpg\", cv2.IMREAD_ANYCOLOR)\n",
    "img = cv2.resize(img, (800, 800))\n",
    "\n",
    "# BGR에서 HSV 색상 공간으로 변환\n",
    "img_hsv = cv2.cvtColor(img, cv2.COLOR_BGR2HSV)\n",
    "\n",
    "# 색상 범위 정의\n",
    "low = np.array([0, 30, 70], dtype=\"uint8\")\n",
    "high = np.array([20, 255, 250], dtype=\"uint8\")\n",
    "\n",
    "# 색상 범위 필터링\n",
    "img_hand = cv2.inRange(img_hsv, low, high)\n",
    "\n",
    "contours, hierarchy = cv2.findContours(img_hand, cv2.RETR_CCOMP, cv2.CHAIN_APPROX_NONE)\n",
    "\n",
    "area = []\n",
    "for i, contour in enumerate(contours):\n",
    "    cv2.drawContours(img, [contour], 0, (0, 255, 0), 3)\n",
    "    area.append(cv2.contourArea(contour))\n",
    "\n",
    "# 손톱 제외 알고리즘\n",
    "max_value = max(area)\n",
    "max_index = area.index(max_value)\n",
    "print(max_index)\n",
    "\n",
    "\n",
    "img = cv2.imread(\"./photo/hand.jpg\", cv2.IMREAD_ANYCOLOR)\n",
    "img = cv2.resize(img, (800, 800))\n",
    "cv2.drawContours(img, [contours[max_index]], 0, (0, 255, 0), 3)\n",
    "cv2.imshow(\"img\", img)\n",
    "cv2.waitKey()\n",
    "cv2.destroyAllWindows()"
   ]
  },
  {
   "cell_type": "code",
   "execution_count": null,
   "metadata": {},
   "outputs": [],
   "source": []
  }
 ],
 "metadata": {
  "kernelspec": {
   "display_name": "Python 3",
   "language": "python",
   "name": "python3"
  },
  "language_info": {
   "codemirror_mode": {
    "name": "ipython",
    "version": 3
   },
   "file_extension": ".py",
   "mimetype": "text/x-python",
   "name": "python",
   "nbconvert_exporter": "python",
   "pygments_lexer": "ipython3",
   "version": "3.12.5"
  }
 },
 "nbformat": 4,
 "nbformat_minor": 2
}
