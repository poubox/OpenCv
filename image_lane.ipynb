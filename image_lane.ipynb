{
 "cells": [
  {
   "cell_type": "code",
   "execution_count": 55,
   "metadata": {},
   "outputs": [],
   "source": [
    "import matplotlib.pyplot as plt\n",
    "import matplotlib.image as mpimg\n",
    "import numpy as np\n",
    "import cv2\n",
    "from image_LaneDetect import LaneDetect"
   ]
  },
  {
   "cell_type": "code",
   "execution_count": 56,
   "metadata": {},
   "outputs": [],
   "source": [
    "image_link = \"./photo/lane_image.png\" # .. : 상위 폴더, . : 현재 폴더\n",
    "img =cv2.imread(image_link, cv2.IMREAD_ANYCOLOR)\n",
    "img_hsv = cv2.cvtColor(img, cv2.COLOR_BGR2HSV)"
   ]
  },
  {
   "cell_type": "code",
   "execution_count": 57,
   "metadata": {},
   "outputs": [],
   "source": [
    "# HSV\n",
    "cv2.imshow(\"HSV Image\", img_hsv)\n",
    "cv2.waitKey()\n",
    "cv2.destroyAllWindows()"
   ]
  },
  {
   "cell_type": "code",
   "execution_count": 58,
   "metadata": {},
   "outputs": [],
   "source": [
    "# Sobel 필터 : 이미지 경계를 검출하기 위해 사용되는 필터\n",
    "\n",
    "dx = 0\n",
    "dy = 1\n",
    "img_sobel = cv2.Sobel(img, -1, dx, dy, delta=0)\n",
    "\n",
    "cv2.imshow(\"Sobel Image\", img_sobel)\n",
    "cv2.waitKey()\n",
    "cv2.destroyAllWindows()"
   ]
  },
  {
   "cell_type": "code",
   "execution_count": 59,
   "metadata": {},
   "outputs": [],
   "source": [
    "# bird view : 이미를 왜곡시켜 마치 도로면과 평행한\n",
    "\n",
    "# 이미지의 형태 값을 저장\n",
    "imshape = img_sobel.shape\n",
    "\n",
    "# 높이와 폭을 저장\n",
    "width = imshape[1]\n",
    "height = imshape[0]\n",
    "\n",
    "# pts1의 좌표 지정\n",
    "pts1 = np.float32([[width*4/10, height*6/10], [width*3/20, height - 100], [width*6.5/10, height*6/10], [width*9/10, height - 100]])\n",
    "\n",
    "# pts2의 좌표 지정\n",
    "pts2 = np.float32([[0, 0], [0, height],[width*9/10, 0], [width, height]])\n",
    "\n",
    "# pts1 -> pts2로 벼노한하는 변환행렬 추출\n",
    "M = cv2.getPerspectiveTransform(pts1, pts2)\n",
    "\n",
    "# 변환 행렬을 적용하여 왜곡\n",
    "img_brid = cv2.warpPerspective(img_sobel, M, (width, 1000))\n",
    "\n",
    "# 필요하다면 h, s, v 채널 값들을 각각 분리해서\n",
    "h, s, v = cv2.split(img_brid)\n",
    "\n",
    "# 필요한 채널 값들만 다시 포함시킬 수 있다. (이 코드는 원래의 이미지로 복구시킴)\n",
    "img_bird = cv2.merge((h, s, v))\n",
    "\n",
    "cv2.imshow(\"Bird View Image\", img_bird)\n",
    "cv2.waitKey()\n",
    "cv2.destroyAllWindows()"
   ]
  },
  {
   "cell_type": "code",
   "execution_count": 60,
   "metadata": {},
   "outputs": [],
   "source": [
    "# inRange 함수로, 이미지의 색상 범위를 좁히자\n",
    "\n",
    "# low_white 및 high_white BGR 범위 설정\n",
    "low_white = np.array([150, 100, 100], dtype=\"uint8\")\n",
    "high_white = np.array([180, 160, 250], dtype=\"uint8\")\n",
    "\n",
    "# low_yellow 및 high_yellow BGR 범위 설정\n",
    "low_yellow = np.array([0, 0, 100], dtype=\"uint8\")\n",
    "high_yellow = np.array([70, 150, 250], dtype=\"uint8\")\n",
    "\n",
    "# inRange로 범위에 맞는 픽셀 검출\n",
    "dst_white = cv2.inRange(img_bird, low_white, high_white)\n",
    "dst_yellow = cv2.inRange(img_bird, low_yellow, high_yellow)\n",
    "\n",
    "# 두 마스크를 결합\n",
    "dst = cv2.add(dst_white, dst_yellow)\n",
    "\n",
    "# 결과 이미지 출력\n",
    "cv2.imshow(\"InRange Image\", dst)\n",
    "cv2.waitKey()\n",
    "cv2.destroyAllWindows()\n"
   ]
  },
  {
   "cell_type": "code",
   "execution_count": 61,
   "metadata": {},
   "outputs": [],
   "source": [
    "# Canny\n",
    "img_canny = cv2.Canny(dst, 5000, 1500, apertureSize=7, L2gradient= True)\n",
    "\n",
    "cv2.imshow(\"Canny Image\", img_canny)\n",
    "cv2.waitKey()\n",
    "cv2.destroyAllWindows()"
   ]
  },
  {
   "cell_type": "code",
   "execution_count": 62,
   "metadata": {},
   "outputs": [
    {
     "data": {
      "text/plain": [
       "<matplotlib.image.AxesImage at 0x1ceee1caa20>"
      ]
     },
     "execution_count": 62,
     "metadata": {},
     "output_type": "execute_result"
    },
    {
     "data": {
      "image/png": "[encoded data removed]",
      "text/plain": [
       "<Figure size 640x480 with 1 Axes>"
      ]
     },
     "metadata": {},
     "output_type": "display_data"
    }
   ],
   "source": [
    "# img_canny와 같은 형태의 흑색 밑바탕\n",
    "mask = np.zeros_like(img_canny)\n",
    "# ROI 범위 지정\n",
    "vertices = np.array([[(width/10, height),\n",
    "                        (width/10,height/3),\n",
    "                        (width,height/3),\n",
    "                        (width, height)]], dtype=np.int32)\n",
    "\n",
    "# 3차원 이상의 n차원 색상 모델인 경우 흰색 색상으로 지정\n",
    "if len(img.shape) > 2:\n",
    "    channel_count = img.shape[2]\n",
    "    ignore_mask_color = (255, ) * channel_count # 3차원인 경우 (255, 255, 255)\n",
    "else:\n",
    "    ignore_mask_color = 255\n",
    "\n",
    "# mask에 ROI 영역을 흰색으로 덮음\n",
    "cv2.fillPoly(mask, vertices, ignore_mask_color)\n",
    "plt.imshow(mask, cmap=\"gray\")\n"
   ]
  },
  {
   "cell_type": "code",
   "execution_count": 63,
   "metadata": {},
   "outputs": [],
   "source": [
    "# img_canny와 mask의 공통된 부분을 검출\n",
    "masked_image = cv2.bitwise_and(img_canny, mask)\n",
    "\n",
    "cv2.imshow(\"Masked Image\", masked_image)\n",
    "cv2.waitKey()\n",
    "cv2.destroyAllWindows()"
   ]
  },
  {
   "cell_type": "code",
   "execution_count": 64,
   "metadata": {},
   "outputs": [],
   "source": [
    "# 윤곽선 그리기\n",
    "\n",
    "contours, h = cv2.findContours(masked_image, cv2.RETR_CCOMP, cv2.CHAIN_APPROX_NONE)\n",
    "\n",
    "color = [155, 155, 155] # 회색\n",
    "for i, contour in enumerate(contours):\n",
    "    cv2.drawContours(masked_image, [contour], -1, (100, 30, 10), thickness=3)\n",
    "    # (컨투어 그릴 이미지, 컨투어 리스트, 인덱스, 색상, 두께)=\n",
    "\n",
    "cv2.imshow(\"Contours\", masked_image)\n",
    "cv2.waitKey()\n",
    "cv2.destroyAllWindows()"
   ]
  },
  {
   "cell_type": "code",
   "execution_count": 65,
   "metadata": {},
   "outputs": [],
   "source": [
    "# 허프라인 함수에 필요한 속성값들\n",
    "rho = 1.0\n",
    "theta = np.pi/180\n",
    "threshold = 100\n",
    "min_line_len = 30\n",
    "max_line_gap = 80\n",
    "\n",
    "lines = cv2.HoughLinesP(masked_image, rho, theta, threshold,\n",
    "minLineLength=min_line_len, maxLineGap=max_line_gap)\n",
    "img = np.zeros_like(masked_image, dtype=np.uint8)\n",
    "\n",
    "# 평균 x, y 좌표를 저장할 리스트 초기화. 각 선의 중간점 좌표를 저장하기 위한 리스트\n",
    "avg_x = []\n",
    "avg_y = []\n",
    "# 만약 허프 변환을 통해 선이 검출되었다면\n",
    "if lines is not None:\n",
    " \n",
    " # 검출된 선들에 대해 반복\n",
    " for line in lines:\n",
    " # 각 선의 시작점과 끝점 좌표 가져오기\n",
    "    for x1, y1, x2, y2 in line:\n",
    " # 두 점 사이의 기울기 계산\n",
    "        ratio = (y2 - y1) / (x2 - x1)\n",
    " \n",
    "        # x축 방향으로의 변화량이 0인 경우는 수직선이므로 패스 (나누기 0 회피)\n",
    "        if (x2 - x1) == 0:\n",
    "            pass\n",
    "        \n",
    "        # 기울기가 1보다 크거나 -1보다 작은 경우 (즉, 거의 수직에 가까운 선일 경우)\n",
    "        elif ratio > 1 or ratio < -1:\n",
    "            # 그 선을 이미지에 그림\n",
    "            cv2.line(img, (x1, y1), (x2, y2), color, thickness=3)\n",
    "            # 선의 중간 좌표 계산\n",
    "            avg_x_val = (x1 + x2) / 2\n",
    "            avg_y_val = (y1 + y2) / 2\n",
    "            # 중간 좌표를 리스트에 추가\n",
    "            avg_x.append(avg_x_val)\n",
    "            avg_y.append(avg_y_val)\n",
    "        \n",
    "        # 기울기로부터 계산된 각도가 10도 미만인 경우 패스\n",
    "        elif np.arccos(ratio) < 10:\n",
    "            pass\n",
    "        \n",
    "        # 그 외의 경우 (즉, 다른 기울기의 선들)\n",
    "        else:\n",
    "        # 그 선을 이미지에 그림\n",
    "            cv2.line(img, (x1, y1), (x2, y2), color, thickness=3)\n",
    "            # 선의 중간 좌표 계산\n",
    "            avg_x_val = (x1 + x2) / 2\n",
    "            avg_y_val = (y1 + y2) / 2\n",
    "            # 중간 좌표를 리스트에 추가\n",
    "            avg_x.append(avg_x_val)\n",
    "            avg_y.append(avg_y_val)\n",
    "# 허프 변환을 통해 검출된 선들만 그린 이미지를 화면에 표시\n",
    "cv2.imshow(\"Contours\", img)\n",
    "cv2.waitKey() # 키 이벤트가 있을 때까지 창을 유지\n",
    "cv2.destroyAllWindows() # 모든 창을 닫음\n"
   ]
  },
  {
   "cell_type": "code",
   "execution_count": 66,
   "metadata": {},
   "outputs": [],
   "source": [
    "# 윈도우 슬라이딩\n",
    "\n",
    "center_x = [] # 중앙값 초기화\n",
    "img_zero = np.zeros_like(masked_image)\n",
    "img = masked_image # 이미지를 grayscale로 변환\n",
    "hist = np.sum(img[:, :], axis = 0) # 이미지의 픽셀값을 히스토그램으로 변환\n",
    "out = np.dstack((img, img, img)) * 255 # 그레이스케일의 단일채널을 3채널로 변환\n",
    "mid = int(hist.shape[0] / 2) # 히스토그램의 중심점 설정\n",
    "left_x = np.argmax(hist[:mid]) # 왼쪽 부분에서 히스토그램이 최댓값이 되는 x값을 찾고\n",
    "right_x = np.argmax(hist[mid:]) + mid # 오른쪽 부분에서 히스토그램이 최댓값이 되는 x값을 찾고\n",
    "num_window = 20 # 윈도우의 갯수 설정\n",
    "window_h = int(img.shape[0] / num_window) # 윈도우의 높이는 이미지의 높이/윈도우의 갯수\n",
    "nonzero = img.nonzero() # 이미지에서 픽셀값이 0이 아닌 좌표를 기록\n",
    "nonzero_y = np.array(nonzero[0]) # 그 좌표중에 y값\n",
    "nonzero_x = np.array(nonzero[1]) # 그 좌표중에 x값\n",
    "now_left_x = left_x\n",
    "now_right_x = right_x\n",
    "min_pixel = 60 # 노이즈를 필터링하기 위한 윈도우내의 최소 픽셀갯수 기준\n",
    "window_width = 20 # 윈도우의 가로 길이\n",
    "win_left_lane = []\n",
    "win_right_lane = []\n",
    "for window in range(num_window):\n",
    " win_y_low = img.shape[0] - (window + 1) * window_h\n",
    " win_y_high = img.shape[0] - window * window_h\n",
    " win_left_xmin = now_left_x - window_width\n",
    " win_left_xmax = now_left_x + window_width\n",
    " win_right_xmin = now_right_x - window_width\n",
    " win_right_xmax = now_right_x + window_width\n",
    "\n",
    "\n",
    " cv2.rectangle(out, (win_left_xmin, win_y_low), (win_left_xmax, win_y_high), (0,255, 0), 2)\n",
    " cv2.rectangle(out, (win_right_xmin, win_y_low), (win_right_xmax, win_y_high), (0,255, 0), 2)\n",
    " left_window_idx = ((nonzero_y >= win_y_low) & (nonzero_y <= win_y_high) &(nonzero_x >= win_left_xmin) & \n",
    "                    (nonzero_x <= win_left_xmax)).nonzero()[0]\n",
    " right_window_idx = ((nonzero_y >= win_y_low) & (nonzero_y <= win_y_high) & (nonzero_x >= win_right_xmin) & \n",
    "                     (nonzero_x <= win_right_xmax)).nonzero()[0]\n",
    " \n",
    " # Append these indices to the lists\n",
    " win_left_lane.append(left_window_idx)\n",
    " win_right_lane.append(right_window_idx)\n",
    " # If you found > minpix pixels, recenter next window on their mean position\n",
    " if len(left_window_idx) > min_pixel:\n",
    "    now_left_x = int(np.mean(nonzero_x[left_window_idx]))\n",
    " if len(right_window_idx) > min_pixel:\n",
    "    now_right_x = int(np.mean(nonzero_x[right_window_idx]))\n",
    "\n",
    "win_left_lane = np.concatenate(win_left_lane)\n",
    "win_right_lane = np.concatenate(win_right_lane)\n",
    "# Extract left and right line pixel positions\n",
    "left_x, left_y = nonzero_x[win_left_lane], nonzero_y[win_left_lane]\n",
    "right_x, right_y = nonzero_x[win_right_lane], nonzero_y[win_right_lane]\n",
    "if len(left_x) > len(right_x):\n",
    "    center_x = [(x + y)/2 for x, y in zip(left_x[:len(right_x)-1], right_x)]\n",
    "elif len(left_x) < len(right_x):\n",
    "    center_x = [(x + y)/2 for x, y in zip(right_x[:len(right_x)-1], left_x)]\n",
    "\n",
    "out = cv2.resize(out, (800, 500))\n",
    "\n",
    "cv2.imshow(\"Contours\", out)\n",
    "cv2.waitKey()\n",
    "cv2.destroyAllWindows()"
   ]
  },
  {
   "cell_type": "code",
   "execution_count": 67,
   "metadata": {},
   "outputs": [
    {
     "name": "stdout",
     "output_type": "stream",
     "text": [
      "left_fit =  [ 8.5116653e-08 -1.7251726e-04  4.4441916e-02  3.8125607e+02]\n",
      "right_fit =  [ 3.9050232e-05 -5.1287677e-02  2.2235039e+01 -1.5947529e+03]\n"
     ]
    }
   ],
   "source": [
    "# 다항식 계산\n",
    "\n",
    "if len(left_y) != 0 and len(left_x) != 0:\n",
    "    left_fit = np.polyfit(left_y, left_x, 3)\n",
    "else:\n",
    "    left_fit = []\n",
    "if len(right_y) != 0 and len(right_x) != 0:\n",
    "    right_fit = np.polyfit(right_y, right_x, 3)\n",
    "else:\n",
    "    right_fit = []\n",
    "left_fit = np.array(left_fit, dtype=np.float32)\n",
    "right_fit = np.array(right_fit, dtype=np.float32)\n",
    "if len(left_fit) == 0 or len(right_fit) == 0:\n",
    "    if len(left_fit) == 0:\n",
    "        left_fit = []\n",
    "    elif len(right_fit) == 0:\n",
    "        right_fit = []\n",
    "    else:\n",
    "        left_fit, right_fit = []\n",
    "else:\n",
    "    pass\n",
    "print(\"left_fit = \", left_fit)\n",
    "print(\"right_fit = \", right_fit)"
   ]
  },
  {
   "cell_type": "code",
   "execution_count": 69,
   "metadata": {},
   "outputs": [
    {
     "name": "stdout",
     "output_type": "stream",
     "text": [
      "left lane condition is 1\n",
      "right lane condition is 1\n"
     ]
    }
   ],
   "source": [
    "# 차선 인식 여부 반환\n",
    "\n",
    "left_detect = 0 # 왼쪽 차선이 detect 되면 1, 안되면 0\n",
    "right_detect = 0 # 오른쪽 차선이 detect 되면 1, 안되면 0\n",
    "out_text = out.copy()\n",
    "if len(left_x) != 0 and len(right_x) != 0 and len(left_y) != 0 and len(right_y) != 0 :\n",
    "    cv2.putText(out_text, \"Left lane is detecting\",(100, 100),\n",
    "    cv2.FONT_HERSHEY_COMPLEX, 1, (255, 255, 255), thickness=2)\n",
    "    cv2.putText(out_text, \"Right lane is detecting\",(1000, 100),\n",
    "    cv2.FONT_HERSHEY_COMPLEX, 1, (255, 255, 255), thickness=2)\n",
    "\n",
    "    left_detect = 1\n",
    "    right_detect = 1\n",
    "    # print(\"left_fit = \\\\n\",left_fit)\n",
    "    # print(\"right_fit = \\\\n\",right_fit)\n",
    "    # print(\"left_fit[0] = \\\\n\",type(left_fit[0]))\n",
    "    # print(\"\\\\n\")\n",
    "else:\n",
    "    if len(right_x) == 0 or len(right_y) == 0:\n",
    "        cv2.putText(out_text, \"Left lane is detecting\",(100, 100),\n",
    "        cv2.FONT_HERSHEY_COMPLEX, 1, (255, 255, 255), thickness=2)\n",
    "        left_detect = 1\n",
    "        right_detect = 0\n",
    "    elif len(left_x) == 0 or len(left_y) == 0:\n",
    "        cv2.putText(out_text, \"Right lane is detecting\",(1400, 100),\n",
    "        cv2.FONT_HERSHEY_COMPLEX, 1, (255, 255, 255), thickness=2)\n",
    "        left_detect = 0\n",
    "        right_detect = 1\n",
    "    else:\n",
    "        left_detect = 0\n",
    "        right_detect = 0\n",
    "    pass\n",
    "print(\"left lane condition is\", left_detect)\n",
    "print(\"right lane condition is\", right_detect)\n",
    "cv2.imshow(\"Final Image\", out_text)\n",
    "cv2.waitKey()\n",
    "cv2.destroyAllWindows()"
   ]
  },
  {
   "cell_type": "code",
   "execution_count": 70,
   "metadata": {},
   "outputs": [
    {
     "name": "stdout",
     "output_type": "stream",
     "text": [
      "right_detect condition is 1\n",
      "\n",
      " left_detect condition is 1\n",
      "\n",
      " left_fit =  [ 8.5116653e-08 -1.7251726e-04  4.4441916e-02  3.8125607e+02]\n",
      "\n",
      " right_fit =  [ 3.9050232e-05 -5.1287677e-02  2.2235039e+01 -1.5947529e+03]\n"
     ]
    }
   ],
   "source": [
    "from movie_LaneDetect import LaneDetect\n",
    "import cv2\n",
    "lane_detect = LaneDetect()\n",
    "movie_link = \"../movie/lane.mp4\"\n",
    "cap = cv2.VideoCapture(movie_link)\n",
    "if cap.isOpened():\n",
    "    while True:\n",
    "        ret, frame = cap.read()\n",
    "        out, left_fit, right_fit, left_detect, right_detect = lane_detect.CvImage(frame)\n",
    "        print(\"\\n left_fit = \", left_fit)\n",
    "        print(\"\\n right_fit = \", right_fit)\n",
    "        cv2.imshow(\"lane detect\",out)\n",
    "        if not ret:\n",
    "            print(\"No movie\")\n",
    "            break\n",
    "        if cv2.waitKey(40) == ord(\"q\"):\n",
    "            break\n",
    "cap.release()\n",
    "cv2.destroyAllWindows()\n",
    "print(\"right_detect condition is\", right_detect)\n",
    "print(\"\\n left_detect condition is\", left_detect)\n",
    "print(\"\\n left_fit = \", left_fit)\n",
    "print(\"\\n right_fit = \", right_fit)"
   ]
  }
 ],
 "metadata": {
  "kernelspec": {
   "display_name": "Python 3",
   "language": "python",
   "name": "python3"
  },
  "language_info": {
   "codemirror_mode": {
    "name": "ipython",
    "version": 3
   },
   "file_extension": ".py",
   "mimetype": "text/x-python",
   "name": "python",
   "nbconvert_exporter": "python",
   "pygments_lexer": "ipython3",
   "version": "3.12.5"
  }
 },
 "nbformat": 4,
 "nbformat_minor": 2
}
