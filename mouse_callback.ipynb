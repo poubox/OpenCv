{
 "cells": [
  {
   "cell_type": "code",
   "execution_count": 3,
   "metadata": {},
   "outputs": [],
   "source": [
    "import cv2\n",
    "import numpy as np\n",
    "import matplotlib.pyplot as plt"
   ]
  },
  {
   "cell_type": "code",
   "execution_count": 4,
   "metadata": {},
   "outputs": [],
   "source": [
    "def get_data_hsv(event, x, y, flags, param):\n",
    "    if event == cv2.EVENT_LBUTTONUP:  # 마우스 왼쪽 버튼을 클릭할때\n",
    "        if 0 <= x < image.shape[1] and 0 <= y < image.shape[0]:  # 이미지 범위 내 확인\n",
    "            b, g, r = image[y, x]  # OpenCV는 BGR 순서로 색상을 반환\n",
    "            # BGR을 HSV로 변환\n",
    "            hsv = cv2.cvtColor(np.uint8([[[b, g, r]]]), cv2.COLOR_BGR2HSV)\n",
    "            h, s, v = hsv[0][0]  # HSV 값 가져오기\n",
    "            print(f\"HSV: ({h}, {s}, {v})\")"
   ]
  },
  {
   "cell_type": "code",
   "execution_count": 5,
   "metadata": {},
   "outputs": [
    {
     "name": "stdout",
     "output_type": "stream",
     "text": [
      "HSV: (2, 99, 106)\n",
      "HSV: (6, 83, 132)\n",
      "HSV: (109, 11, 190)\n",
      "HSV: (103, 14, 161)\n",
      "HSV: (101, 16, 126)\n",
      "HSV: (101, 15, 136)\n",
      "HSV: (101, 13, 158)\n",
      "HSV: (101, 11, 181)\n"
     ]
    }
   ],
   "source": [
    "img = cv2.imread(\"../photo/hand.jpg\", cv2.IMREAD_ANYCOLOR)\n",
    "img = cv2.resize(img, (800, 800))\n",
    "cv2.namedWindow('Image')\n",
    "cv2.setMouseCallback('Image', get_data_hsv)\n",
    "image = img\n",
    "\n",
    "while True:\n",
    "    cv2.imshow('Image', img)\n",
    "    \n",
    "    if cv2.waitKey():\n",
    "        break\n",
    "\n",
    "cv2.destroyAllWindows()"
   ]
  }
 ],
 "metadata": {
  "kernelspec": {
   "display_name": "opencv",
   "language": "python",
   "name": "python3"
  },
  "language_info": {
   "codemirror_mode": {
    "name": "ipython",
    "version": 3
   },
   "file_extension": ".py",
   "mimetype": "text/x-python",
   "name": "python",
   "nbconvert_exporter": "python",
   "pygments_lexer": "ipython3",
   "version": "3.12.4"
  }
 },
 "nbformat": 4,
 "nbformat_minor": 2
}
