{
 "cells": [
  {
   "cell_type": "code",
   "execution_count": 10,
   "metadata": {},
   "outputs": [],
   "source": [
    "import cv2\n",
    "import numpy as np\n",
    "\n",
    "# 빨강선 그리는 코드\n",
    "sketch = np.zeros((480, 720, 3), dtype=np.uint8)\n",
    "sketch = cv2.line(sketch, (0, 0), (500, 250), (0, 0, 255), 3, cv2.LINE_4)\n",
    "cv2.imshow(\"sketch\", sketch)\n",
    "cv2.waitKey()\n",
    "cv2.destroyAllWindows()"
   ]
  },
  {
   "cell_type": "code",
   "execution_count": 13,
   "metadata": {},
   "outputs": [
    {
     "data": {
      "image/png": "[encoded data removed]",
      "text/plain": [
       "<Figure size 640x480 with 1 Axes>"
      ]
     },
     "metadata": {},
     "output_type": "display_data"
    }
   ],
   "source": [
    "import matplotlib.pyplot as plt\n",
    "\n",
    "# matplotlib 실습\n",
    "sketch_cvt = cv2.cvtColor(sketch, cv2.COLOR_BGR2RGB)\n",
    "plt.imshow(sketch_cvt)\n",
    "plt.show()"
   ]
  },
  {
   "cell_type": "code",
   "execution_count": 14,
   "metadata": {},
   "outputs": [],
   "source": [
    "# 원 그리기\n",
    "sketch = np.zeros((480, 720, 3), dtype='uint8')\n",
    "sketch = cv2.circle(sketch, (200, 200), 50, (255, 0, 0), cv2.FILLED, cv2.LINE_4)\n",
    "cv2.imshow(\"sketch\", sketch)\n",
    "cv2.waitKey()\n",
    "cv2.destroyAllWindows()"
   ]
  },
  {
   "cell_type": "code",
   "execution_count": 15,
   "metadata": {},
   "outputs": [],
   "source": [
    "# 사각형 그리기\n",
    "sketch = cv2.rectangle(sketch, (50, 200), (700, 300), (0, 255, 0), 5, cv2.LINE_8)\n",
    "cv2.imshow(\"sketch\", sketch)\n",
    "cv2.waitKey()\n",
    "cv2.destroyAllWindows()"
   ]
  },
  {
   "cell_type": "code",
   "execution_count": 16,
   "metadata": {},
   "outputs": [],
   "source": [
    "# 호 그리기\n",
    "sketch = np.zeros((480, 720, 3), dtype=np.uint8)\n",
    "sketch = cv2.ellipse(sketch, (600, 200), (200, 150), 0, 110, 180, (255, 255, 0), 2)\n",
    "cv2.imshow(\"sketch\", sketch)\n",
    "cv2.waitKey()   \n",
    "cv2.destroyAllWindows()"
   ]
  },
  {
   "cell_type": "code",
   "execution_count": 18,
   "metadata": {},
   "outputs": [],
   "source": [
    "# 여러 개의 점 연결하기\n",
    "poly1 = np.array([[50, 50], [200, 300], [350, 400], [700, 400]])\n",
    "sketch = np.zeros((480, 720, 3), dtype='uint8')\n",
    "sketch = cv2.polylines(sketch, [poly1], True, (255, 0, 0), 2)\n",
    "\n",
    "cv2.imshow(\"sketch\", sketch)\n",
    "cv2.waitKey()\n",
    "cv2.destroyAllWindows()"
   ]
  },
  {
   "cell_type": "code",
   "execution_count": 19,
   "metadata": {},
   "outputs": [],
   "source": [
    "# 내부가 채워진 다각형\n",
    "poly1 = np.array([[50, 50], [200, 300], [350, 400], [700, 400]])\n",
    "sketch = np.zeros((480, 720, 3), dtype='uint8')\n",
    "sketch = cv2.fillPoly(sketch, [poly1], (0, 255, 0), cv2.LINE_4)\n",
    "\n",
    "cv2.imshow(\"sketch\", sketch)\n",
    "cv2.waitKey()\n",
    "cv2.destroyAllWindows()"
   ]
  },
  {
   "cell_type": "code",
   "execution_count": 20,
   "metadata": {},
   "outputs": [],
   "source": [
    "# (x, y) 좌표만큼 이동\n",
    "poly1 = np.array([[50, 50], [200, 300], [350, 400], [700, 400]])\n",
    "sketch = np.zeros((480, 720, 3), dtype='uint8')\n",
    "sketch = cv2.fillPoly(sketch, [poly1], (0, 255, 0), cv2.LINE_4)\n",
    "sketch = cv2.fillPoly(sketch, [poly1], (0, 255, 0), cv2.LINE_4, offset=(50, 50))\n",
    "\n",
    "cv2.imshow(\"sketch\", sketch)\n",
    "cv2.waitKey()\n",
    "cv2.destroyAllWindows()"
   ]
  },
  {
   "cell_type": "code",
   "execution_count": 21,
   "metadata": {},
   "outputs": [],
   "source": [
    "# 글자 넣기\n",
    "sketch = np.zeros((480, 720, 3), dtype='uint8')\n",
    "sketch = cv2.putText(sketch, \"DeepTree\", (100, 100), cv2.FONT_HERSHEY_COMPLEX, 3, (255, 0, 100), 5)\n",
    "cv2.imshow(\"sketch\", sketch)\n",
    "cv2.waitKey()\n",
    "cv2.destroyAllWindows()"
   ]
  }
 ],
 "metadata": {
  "kernelspec": {
   "display_name": "Python 3",
   "language": "python",
   "name": "python3"
  },
  "language_info": {
   "codemirror_mode": {
    "name": "ipython",
    "version": 3
   },
   "file_extension": ".py",
   "mimetype": "text/x-python",
   "name": "python",
   "nbconvert_exporter": "python",
   "pygments_lexer": "ipython3",
   "version": "3.12.5"
  }
 },
 "nbformat": 4,
 "nbformat_minor": 2
}
