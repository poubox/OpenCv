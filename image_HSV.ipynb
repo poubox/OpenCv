{
 "cells": [
  {
   "cell_type": "code",
   "execution_count": 2,
   "metadata": {},
   "outputs": [],
   "source": [
    "# H, S, V 화면 출력\n",
    "\n",
    "import cv2\n",
    "\n",
    "img = cv2.imread(\"./photo/squares.png\", cv2.IMREAD_COLOR)\n",
    "img_HSV = cv2.cvtColor(img, cv2.COLOR_BGR2HSV) # BGR -> HSV\n",
    "h, s, v = cv2.split(img_HSV) # 색상, 채도 명도 분리\n",
    "\n",
    "cv2.imshow(\"H(Hue)\", h)\n",
    "cv2.imshow(\"S(Saturation)\", s)\n",
    "cv2.imshow(\"V(Value, Brigtness)\", v)\n",
    "cv2.waitKey()\n",
    "cv2.destroyAllWindows()"
   ]
  },
  {
   "cell_type": "code",
   "execution_count": 12,
   "metadata": {},
   "outputs": [],
   "source": [
    "# 원하는 영역의 색만 추출\n",
    "img = cv2.imread(\"./photo/squares.png\", cv2.IMREAD_COLOR)\n",
    "img_HSV = cv2.cvtColor(img, cv2.COLOR_BGR2HSV) # BGR -> HSV\n",
    "h, s, v = cv2.split(img_HSV) # 색상, 채도 명도 분리\n",
    "\n",
    "h = cv2.inRange(h, 50, 70)\n",
    "img_green = cv2.bitwise_and(img_HSV, img_HSV, mask = h)\n",
    "img_green = cv2.cvtColor(img_green, cv2.COLOR_HSV2BGR)\n",
    "\n",
    "cv2.imshow(\"green\", img_green)\n",
    "cv2.waitKey()\n",
    "cv2.destroyAllWindows()"
   ]
  },
  {
   "cell_type": "code",
   "execution_count": 3,
   "metadata": {},
   "outputs": [],
   "source": [
    "# 도형 만들기\n",
    "\n",
    "import numpy as np\n",
    "import cv2\n",
    "# draw a rectangle\n",
    "rectangle = np.zeros((300, 300), dtype=\"uint8\")\n",
    "cv2.rectangle(rectangle, (25, 25), (275, 275), 255, -1)\n",
    "cv2.imshow(\"Rectangle\", rectangle)\n",
    "#draw a circle\n",
    "circle = np.zeros((300, 300), dtype = \"uint8\")\n",
    "cv2.circle(circle, (150, 150), 150, 255, -1)\n",
    "cv2.imshow(\"Circle\", circle)\n",
    "cv2.waitKey()\n",
    "cv2.destroyAllWindows()\n"
   ]
  },
  {
   "cell_type": "code",
   "execution_count": 2,
   "metadata": {},
   "outputs": [],
   "source": [
    "# AND 연산으로 이미지 합성\n",
    "bitwiseAnd = cv2.bitwise_and(rectangle, circle)\n",
    "cv2.imshow(\"AND\", bitwiseAnd)\n",
    "cv2.waitKey(0)\n",
    "cv2.destroyAllWindows()"
   ]
  },
  {
   "cell_type": "code",
   "execution_count": 4,
   "metadata": {},
   "outputs": [
    {
     "data": {
      "text/plain": [
       "-1"
      ]
     },
     "execution_count": 4,
     "metadata": {},
     "output_type": "execute_result"
    }
   ],
   "source": [
    "# OR 연산으로 이미지 합성\n",
    "bitwiseOr = cv2.bitwise_or(rectangle, circle)\n",
    "cv2.imshow(\"OR\", bitwiseOr)\n",
    "cv2.waitKey(0)"
   ]
  },
  {
   "cell_type": "code",
   "execution_count": 5,
   "metadata": {},
   "outputs": [],
   "source": [
    "# XOR 연산으로 이미지 합성\n",
    "bitwiseXor = cv2.bitwise_xor(rectangle, circle)\n",
    "cv2.imshow(\"XOR\", bitwiseXor)\n",
    "cv2.waitKey(0)\n",
    "cv2.destroyAllWindows()"
   ]
  },
  {
   "cell_type": "code",
   "execution_count": 6,
   "metadata": {},
   "outputs": [],
   "source": [
    "# not 연산으로 이미지 합성\n",
    "bitwiseNot = cv2.bitwise_not(circle)\n",
    "cv2.imshow(\"NOT\", bitwiseNot)\n",
    "cv2.waitKey(0)\n",
    "cv2.destroyAllWindows()"
   ]
  }
 ],
 "metadata": {
  "kernelspec": {
   "display_name": "Python 3",
   "language": "python",
   "name": "python3"
  },
  "language_info": {
   "codemirror_mode": {
    "name": "ipython",
    "version": 3
   },
   "file_extension": ".py",
   "mimetype": "text/x-python",
   "name": "python",
   "nbconvert_exporter": "python",
   "pygments_lexer": "ipython3",
   "version": "3.12.5"
  }
 },
 "nbformat": 4,
 "nbformat_minor": 2
}
